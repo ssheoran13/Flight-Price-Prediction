{
 "cells": [
  {
   "cell_type": "code",
   "execution_count": 1,
   "metadata": {},
   "outputs": [],
   "source": [
    "import matplotlib as mpl\n",
    "import matplotlib.pyplot as plt\n",
    "import preprocess\n",
    "import pandas as pd\n",
    "\n",
    "import numpy as np\n",
    "import seaborn as sns"
   ]
  },
  {
   "cell_type": "code",
   "execution_count": null,
   "metadata": {},
   "outputs": [],
   "source": [
    "fig_size = plt.rcParams[\"figure.figsize\"]\n",
    "fig_size[0] = 16    # x-axis\n",
    "fig_size[1] = 12    # y-axis\n",
    "plt.rcParams[\"figure.figsize\"] = fig_size\n",
    "sns.set_theme(style=\"darkgrid\")"
   ]
  },
  {
   "cell_type": "code",
   "execution_count": null,
   "metadata": {},
   "outputs": [],
   "source": [
    "df = preprocess.preprocess(graphs=True)\n",
    "df.shape"
   ]
  },
  {
   "cell_type": "code",
   "execution_count": null,
   "metadata": {},
   "outputs": [],
   "source": [
    "temp = df.pivot_table(index='departure_day', columns='airline', values='flight_cost', aggfunc='mean')\n",
    "sns.heatmap(temp. linewidths=.5)"
   ]
  },
  {
   "cell_type": "code",
   "execution_count": null,
   "metadata": {},
   "outputs": [],
   "source": [
    "temp = df.pivot_table(index='days_to_depart', columns='airline', values='flight_cost', aggfunc='mean')\n",
    "sns.heatmap(temp. linewidths=.5)"
   ]
  },
  {
   "cell_type": "code",
   "execution_count": null,
   "metadata": {},
   "outputs": [],
   "source": [
    "temp = df.pivot_table(index='departure_day', columns='flight_path', values='flight_cost', aggfunc='mean')\n",
    "sns.heatmap(temp, linewidths=.5)"
   ]
  },
  {
   "cell_type": "code",
   "execution_count": null,
   "metadata": {},
   "outputs": [],
   "source": [
    "temp = df.loc[:,['flight_path','airline','departure_time_day','booking_day','departure_day','departure_time','flight_cost','number_of_stops']]\n",
    "temp['flight_path']=temp['flight_path'].astype('category').cat.codes\n",
    "temp['airline']=temp['airline'].astype('category').cat.codes\n",
    "temp['departure_time_day']=temp['departure_time_day'].astype('category').cat.codes\n",
    "temp['departure_time']=temp['departure_time'].astype('category').cat.codes\n",
    "sns.pairplot(temp)"
   ]
  },
  {
   "cell_type": "code",
   "execution_count": null,
   "metadata": {},
   "outputs": [],
   "source": [
    "temp = df.loc[:,['flight_path','airline','departure_time_day','booking_day','departure_day','departure_time','flight_cost','number_of_stops']]\n",
    "temp['flight_path']=temp['flight_path'].astype('category').cat.codes\n",
    "temp['airline']=temp['airline'].astype('category').cat.codes\n",
    "temp['departure_time_day']=temp['departure_time_day'].astype('category').cat.codes\n",
    "temp['departure_time']=temp['departure_time'].astype('category').cat.codes\n",
    "sns.heatmap(temp.corr(), linewidths=.5)"
   ]
  },
  {
   "cell_type": "code",
   "execution_count": null,
   "metadata": {},
   "outputs": [],
   "source": [
    "\n",
    "temp = df.loc[:,['flight_path','airline','departure_time_day','booking_day','departure_day','departure_time','flight_cost','number_of_stops']]\n",
    "temp['flight_path']=temp['flight_path'].astype('category').cat.codes\n",
    "temp['airline']=temp['airline'].astype('category').cat.codes\n",
    "temp['departure_time_day']=temp['departure_time_day'].astype('category').cat.codes\n",
    "temp['departure_time']=temp['departure_time'].astype('category').cat.codes\n",
    "cor = temp.corr()\n",
    "# t = sns.dark_palette(\"#3eada7\", as_cmap=True)\n",
    "plt.figure(figsize=(14,3))\n",
    "sns.heatmap(cor.loc[['flight_cost']], linewidths=.5)"
   ]
  },
  {
   "cell_type": "code",
   "execution_count": null,
   "metadata": {},
   "outputs": [],
   "source": [
    "sns.displot(data=df, x=\"flight_cost\", hue=\"airline\", kind=\"kde\", fill=True)\n",
    "sns.displot(data=df, x=\"flight_cost\", hue=\"airline\", multiple=\"stack\", bins=18)\n",
    "# sns.barplot(data=df, x=\"airline\", hue=\"flight_cost\", estimator = np.median)\n",
    "# sns.displot(penguins, x=\"bill_length_mm\", y=\"bill_depth_mm\", hue=\"species\")"
   ]
  },
  {
   "cell_type": "code",
   "execution_count": null,
   "metadata": {},
   "outputs": [],
   "source": [
    "df['airline'].value_counts()"
   ]
  },
  {
   "cell_type": "code",
   "execution_count": null,
   "metadata": {
    "scrolled": true
   },
   "outputs": [],
   "source": [
    "cmap = plt.get_cmap('jet_r')\n",
    "\n",
    "# airlines = df['airline'].unique()[:6]\n",
    "\n",
    "\n",
    "for i in range(len(airlines)):\n",
    "    sliced_data = df.loc[df['airline'] == airlines[i]]\n",
    "    res = sliced_data.groupby('days_to_depart').agg({'flight_cost': ['mean', 'min', 'max']}).reset_index(drop=True)\n",
    "    res.columns = res.columns.droplevel(0)\n",
    "\n",
    "    color = cmap(float(i)/len(airlines))\n",
    "    x_axis = np.arange(len(sliced_data['days_to_depart'].unique()))+1\n",
    "    plt.plot(x_axis, res['mean'],label='{} Avg'.format(airlines[i]),c=color)\n",
    "    plt.plot(x_axis, res['min'], ':',label='{} Min'.format(airlines[i]), linewidth=2, c=color)\n",
    "    plt.plot(x_axis, res['max'], ':',label='{} Max'.format(airlines[i]), linewidth=2, c=color)\n",
    "\n",
    "plt.legend()\n",
    "plt.show()"
   ]
  },
  {
   "cell_type": "code",
   "execution_count": null,
   "metadata": {},
   "outputs": [],
   "source": [
    "sns.relplot(x=\"days_to_depart\", y=\"flight_cost\", kind=\"line\", data=df, hue='airline', ci=None)"
   ]
  },
  {
   "cell_type": "code",
   "execution_count": 44,
   "metadata": {},
   "outputs": [],
   "source": [
    "df = preprocess.preprocess()\n",
    "X = df.loc[:, df.columns != 'flight_cost']\n",
    "Y = df.loc[:,['flight_cost']]"
   ]
  },
  {
   "cell_type": "code",
   "execution_count": 45,
   "metadata": {
    "scrolled": true
   },
   "outputs": [],
   "source": [
    "from sklearn.preprocessing import MinMaxScaler\n",
    "from sklearn.linear_model import LinearRegression, ElasticNet\n",
    "from sklearn.model_selection import train_test_split\n",
    "from sklearn.decomposition import PCA\n",
    "from sklearn.ensemble import RandomForestClassifier"
   ]
  },
  {
   "cell_type": "code",
   "execution_count": 35,
   "metadata": {},
   "outputs": [],
   "source": [
    " X_train, X_test, y_train, y_test = train_test_split(X, Y, test_size=0.33, random_state=69)"
   ]
  },
  {
   "cell_type": "code",
   "execution_count": 30,
   "metadata": {
    "scrolled": true
   },
   "outputs": [
    {
     "data": {
      "text/plain": [
       "0.10252847341827398"
      ]
     },
     "execution_count": 30,
     "metadata": {},
     "output_type": "execute_result"
    }
   ],
   "source": [
    "# reg = LinearRegression().fit(X_train, y_train)\n",
    "# reg.score(X_train, y_train)\n",
    "\n",
    "regr = LinearRegression()\n",
    "regr.fit(X_train, y_train)\n",
    "\n",
    "regr.score(X_train, y_train)"
   ]
  },
  {
   "cell_type": "code",
   "execution_count": 19,
   "metadata": {},
   "outputs": [
    {
     "data": {
      "text/plain": [
       "0.19008062848990526"
      ]
     },
     "execution_count": 19,
     "metadata": {},
     "output_type": "execute_result"
    }
   ],
   "source": [
    "reg.score(X_test, y_test)"
   ]
  },
  {
   "cell_type": "code",
   "execution_count": 46,
   "metadata": {},
   "outputs": [],
   "source": [
    "# create a scaler object\n",
    "scaler = MinMaxScaler()\n",
    "# fit and transform the data\n",
    "df_X = pd.DataFrame(scaler.fit_transform(X), columns=X.columns)\n",
    "# df_Y = df_norm.loc[:,['flight_cost']]"
   ]
  },
  {
   "cell_type": "code",
   "execution_count": 21,
   "metadata": {},
   "outputs": [],
   "source": [
    " X_train, X_test, y_train, y_test = train_test_split(df_X,Y, test_size=0.33, random_state=69)"
   ]
  },
  {
   "cell_type": "code",
   "execution_count": 22,
   "metadata": {},
   "outputs": [
    {
     "data": {
      "text/plain": [
       "0.17840242484026503"
      ]
     },
     "execution_count": 22,
     "metadata": {},
     "output_type": "execute_result"
    }
   ],
   "source": [
    "reg = LinearRegression().fit(X_train, y_train)\n",
    "reg.score(X_train, y_train)"
   ]
  },
  {
   "cell_type": "code",
   "execution_count": 23,
   "metadata": {},
   "outputs": [
    {
     "data": {
      "text/plain": [
       "0.19034184511127283"
      ]
     },
     "execution_count": 23,
     "metadata": {},
     "output_type": "execute_result"
    }
   ],
   "source": [
    "reg.score(X_test, y_test)"
   ]
  },
  {
   "cell_type": "code",
   "execution_count": 48,
   "metadata": {},
   "outputs": [
    {
     "data": {
      "text/plain": [
       "0.03200476687923137"
      ]
     },
     "execution_count": 48,
     "metadata": {},
     "output_type": "execute_result"
    }
   ],
   "source": [
    "pca = PCA(n_components=3)\n",
    "pca_x = pca.fit_transform(df_X)\n",
    "X_train, X_test, y_train, y_test = train_test_split(pca_x, Y, test_size=0.33, random_state=69)\n",
    "reg = LinearRegression().fit(X_train, y_train)\n",
    "reg.score(X_train, y_train)"
   ]
  },
  {
   "cell_type": "code",
   "execution_count": null,
   "metadata": {},
   "outputs": [],
   "source": [
    "reg.score(X_test, y_test)"
   ]
  }
 ],
 "metadata": {
  "kernelspec": {
   "display_name": "Python 3",
   "language": "python",
   "name": "python3"
  },
  "language_info": {
   "codemirror_mode": {
    "name": "ipython",
    "version": 3
   },
   "file_extension": ".py",
   "mimetype": "text/x-python",
   "name": "python",
   "nbconvert_exporter": "python",
   "pygments_lexer": "ipython3",
   "version": "3.6.5"
  }
 },
 "nbformat": 4,
 "nbformat_minor": 2
}
